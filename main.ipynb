{
 "cells": [
  {
   "cell_type": "code",
   "execution_count": null,
   "id": "d8527880-03f5-437b-bc1d-7bdb6cf7b912",
   "metadata": {
    "editable": true,
    "slideshow": {
     "slide_type": ""
    },
    "tags": []
   },
   "outputs": [
    {
     "name": "stdout",
     "output_type": "stream",
     "text": [
      "1006\n"
     ]
    }
   ],
   "source": [
    "import json\n",
    "import pprint\n",
    "\n",
    "with open(\"./data/backup/backup_20250516.json\", \"r\", encoding=\"utf-8\") as f:\n",
    "    backup = json.load(f)\n",
    "\n",
    "with open(\"./data/github/github.json\", \"r\", encoding=\"utf-8\") as f:\n",
    "    github = json.load(f)\n"
   ]
  },
  {
   "cell_type": "markdown",
   "id": "fe24eed0",
   "metadata": {},
   "source": [
    "## Github set"
   ]
  },
  {
   "cell_type": "code",
   "execution_count": null,
   "id": "d80aa9c2",
   "metadata": {},
   "outputs": [],
   "source": [
    "backup_names = [b[\"name\"].lower() for b in backup]\n",
    "github_names = [g[\"name\"].lower() for g in github]\n",
    "\n",
    "new = [gn for gn in github_names if gn.lower() not in backup_names]\n",
    "t = [{\"name\": g[\"name\"], \"code\": g[\"content\"]} for g in github if g[\"name\"].lower() in new]\n",
    "\n",
    "with open (\"./data/github/base_filtered.json\", \"w\", encoding=\"utf-8\") as f:\n",
    "    f.write(json.dumps(t))\n",
    "\n",
    "\n"
   ]
  }
 ],
 "metadata": {
  "kernelspec": {
   "display_name": "Python 3",
   "language": "python",
   "name": "python3"
  },
  "language_info": {
   "codemirror_mode": {
    "name": "ipython",
    "version": 3
   },
   "file_extension": ".py",
   "mimetype": "text/x-python",
   "name": "python",
   "nbconvert_exporter": "python",
   "pygments_lexer": "ipython3",
   "version": "3.13.3"
  }
 },
 "nbformat": 4,
 "nbformat_minor": 5
}
