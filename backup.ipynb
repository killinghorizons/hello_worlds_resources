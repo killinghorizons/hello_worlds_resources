{
 "cells": [
  {
   "cell_type": "code",
   "execution_count": null,
   "id": "bc6b703a-cf0b-400d-a71b-90747e79a950",
   "metadata": {},
   "outputs": [],
   "source": [
    "import json\n",
    "from math import sqrt\n",
    "\n",
    "with open (\"./data/backup/backup_20250517.json\", \"r\", encoding=\"utf-8\") as f:\n",
    "    data = json.load(f)\n",
    "\n",
    "code_len = [len(d[\"code\"]) for d in data]\n",
    "\n",
    "code_len_sum = sum(code_len)\n",
    "code_len_mean = code_len_sum / len(code_len)\n",
    "code_len_max = max(code_len)\n",
    "code_len_min = min(code_len)\n",
    "\n",
    "var = sum([(abs(c - code_len_mean))** 2 for c in code_len]) / len(code_len)\n",
    "sd = sqrt(var)\n",
    "\n",
    "names = [d[\"name\"] for d in data]\n",
    "print(len(names))\n",
    "print(len(set(names)))"
   ]
  },
  {
   "cell_type": "markdown",
   "id": "9756f35d-6e25-42fb-aa3b-ec4eae77f945",
   "metadata": {},
   "source": [
    "## Add R ~ Github set"
   ]
  }
 ],
 "metadata": {
  "kernelspec": {
   "display_name": "Python 3 (ipykernel)",
   "language": "python",
   "name": "python3"
  },
  "language_info": {
   "codemirror_mode": {
    "name": "ipython",
    "version": 3
   },
   "file_extension": ".py",
   "mimetype": "text/x-python",
   "name": "python",
   "nbconvert_exporter": "python",
   "pygments_lexer": "ipython3",
   "version": "3.13.3"
  }
 },
 "nbformat": 4,
 "nbformat_minor": 5
}
